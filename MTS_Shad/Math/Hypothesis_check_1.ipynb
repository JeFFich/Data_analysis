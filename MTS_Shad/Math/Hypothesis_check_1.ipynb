{
  "nbformat": 4,
  "nbformat_minor": 0,
  "metadata": {
    "colab": {
      "provenance": []
    },
    "kernelspec": {
      "name": "python3",
      "display_name": "Python 3"
    },
    "language_info": {
      "name": "python"
    }
  },
  "cells": [
    {
      "cell_type": "code",
      "execution_count": null,
      "metadata": {
        "id": "NQw5oTYhyn8i"
      },
      "outputs": [],
      "source": [
        "import pandas as pd\n",
        "import numpy as np\n",
        "import scipy.stats as st"
      ]
    },
    {
      "cell_type": "markdown",
      "source": [
        "Возьмем данные о сделках компании Boeing на поставку самолетов в различные страны в период с 1958 по 2022 года. В качестве клиентов у компании предлагается рассмотреть не компании, а целые страны (для \"укрупнения\" метрик выборки). Никакой дополнительной обработки данных (по типу фильтрации выбросов) производить не будем (посчитал что так будет интереснее)"
      ],
      "metadata": {
        "id": "wVlE_JePjmS2"
      }
    },
    {
      "cell_type": "code",
      "source": [
        "df = pd.read_csv('/content/cleanedOrdersBoeing (1).csv')\n",
        "\n",
        "df.head()"
      ],
      "metadata": {
        "colab": {
          "base_uri": "https://localhost:8080/",
          "height": 206
        },
        "id": "MMGzESMUEY14",
        "outputId": "fcb2dab6-48d6-4d69-9a3d-4bd41ac44604"
      },
      "execution_count": null,
      "outputs": [
        {
          "output_type": "execute_result",
          "data": {
            "text/plain": [
              "   Unnamed: 0      country                customer  delivery_year engine  \\\n",
              "0           0  Afghanistan  Ariana Afghan Airlines           1968     PW   \n",
              "1           1  Afghanistan  Ariana Afghan Airlines           1970     PW   \n",
              "2           2  Afghanistan  Ariana Afghan Airlines           1979     GE   \n",
              "3           4      Algeria             Air Algerie           1974     PW   \n",
              "4           5      Algeria             Air Algerie           1974     PW   \n",
              "\n",
              "     model month  year        region  delivery_total  order_total  \\\n",
              "0      727   Mar  1968  Central Asia               1            1   \n",
              "1      727   Apr  1969  Central Asia               1            1   \n",
              "2    DC-10   Sep  1978  Central Asia               1            1   \n",
              "3      727   Jan  1974        Africa               1            1   \n",
              "4  737-200   Jan  1974        Africa               1            1   \n",
              "\n",
              "   unfilled_orders  \n",
              "0                0  \n",
              "1                0  \n",
              "2                0  \n",
              "3                0  \n",
              "4                0  "
            ],
            "text/html": [
              "\n",
              "  <div id=\"df-f55a3a39-6d07-46c5-a49f-b9bed7e1af78\" class=\"colab-df-container\">\n",
              "    <div>\n",
              "<style scoped>\n",
              "    .dataframe tbody tr th:only-of-type {\n",
              "        vertical-align: middle;\n",
              "    }\n",
              "\n",
              "    .dataframe tbody tr th {\n",
              "        vertical-align: top;\n",
              "    }\n",
              "\n",
              "    .dataframe thead th {\n",
              "        text-align: right;\n",
              "    }\n",
              "</style>\n",
              "<table border=\"1\" class=\"dataframe\">\n",
              "  <thead>\n",
              "    <tr style=\"text-align: right;\">\n",
              "      <th></th>\n",
              "      <th>Unnamed: 0</th>\n",
              "      <th>country</th>\n",
              "      <th>customer</th>\n",
              "      <th>delivery_year</th>\n",
              "      <th>engine</th>\n",
              "      <th>model</th>\n",
              "      <th>month</th>\n",
              "      <th>year</th>\n",
              "      <th>region</th>\n",
              "      <th>delivery_total</th>\n",
              "      <th>order_total</th>\n",
              "      <th>unfilled_orders</th>\n",
              "    </tr>\n",
              "  </thead>\n",
              "  <tbody>\n",
              "    <tr>\n",
              "      <th>0</th>\n",
              "      <td>0</td>\n",
              "      <td>Afghanistan</td>\n",
              "      <td>Ariana Afghan Airlines</td>\n",
              "      <td>1968</td>\n",
              "      <td>PW</td>\n",
              "      <td>727</td>\n",
              "      <td>Mar</td>\n",
              "      <td>1968</td>\n",
              "      <td>Central Asia</td>\n",
              "      <td>1</td>\n",
              "      <td>1</td>\n",
              "      <td>0</td>\n",
              "    </tr>\n",
              "    <tr>\n",
              "      <th>1</th>\n",
              "      <td>1</td>\n",
              "      <td>Afghanistan</td>\n",
              "      <td>Ariana Afghan Airlines</td>\n",
              "      <td>1970</td>\n",
              "      <td>PW</td>\n",
              "      <td>727</td>\n",
              "      <td>Apr</td>\n",
              "      <td>1969</td>\n",
              "      <td>Central Asia</td>\n",
              "      <td>1</td>\n",
              "      <td>1</td>\n",
              "      <td>0</td>\n",
              "    </tr>\n",
              "    <tr>\n",
              "      <th>2</th>\n",
              "      <td>2</td>\n",
              "      <td>Afghanistan</td>\n",
              "      <td>Ariana Afghan Airlines</td>\n",
              "      <td>1979</td>\n",
              "      <td>GE</td>\n",
              "      <td>DC-10</td>\n",
              "      <td>Sep</td>\n",
              "      <td>1978</td>\n",
              "      <td>Central Asia</td>\n",
              "      <td>1</td>\n",
              "      <td>1</td>\n",
              "      <td>0</td>\n",
              "    </tr>\n",
              "    <tr>\n",
              "      <th>3</th>\n",
              "      <td>4</td>\n",
              "      <td>Algeria</td>\n",
              "      <td>Air Algerie</td>\n",
              "      <td>1974</td>\n",
              "      <td>PW</td>\n",
              "      <td>727</td>\n",
              "      <td>Jan</td>\n",
              "      <td>1974</td>\n",
              "      <td>Africa</td>\n",
              "      <td>1</td>\n",
              "      <td>1</td>\n",
              "      <td>0</td>\n",
              "    </tr>\n",
              "    <tr>\n",
              "      <th>4</th>\n",
              "      <td>5</td>\n",
              "      <td>Algeria</td>\n",
              "      <td>Air Algerie</td>\n",
              "      <td>1974</td>\n",
              "      <td>PW</td>\n",
              "      <td>737-200</td>\n",
              "      <td>Jan</td>\n",
              "      <td>1974</td>\n",
              "      <td>Africa</td>\n",
              "      <td>1</td>\n",
              "      <td>1</td>\n",
              "      <td>0</td>\n",
              "    </tr>\n",
              "  </tbody>\n",
              "</table>\n",
              "</div>\n",
              "    <div class=\"colab-df-buttons\">\n",
              "\n",
              "  <div class=\"colab-df-container\">\n",
              "    <button class=\"colab-df-convert\" onclick=\"convertToInteractive('df-f55a3a39-6d07-46c5-a49f-b9bed7e1af78')\"\n",
              "            title=\"Convert this dataframe to an interactive table.\"\n",
              "            style=\"display:none;\">\n",
              "\n",
              "  <svg xmlns=\"http://www.w3.org/2000/svg\" height=\"24px\" viewBox=\"0 -960 960 960\">\n",
              "    <path d=\"M120-120v-720h720v720H120Zm60-500h600v-160H180v160Zm220 220h160v-160H400v160Zm0 220h160v-160H400v160ZM180-400h160v-160H180v160Zm440 0h160v-160H620v160ZM180-180h160v-160H180v160Zm440 0h160v-160H620v160Z\"/>\n",
              "  </svg>\n",
              "    </button>\n",
              "\n",
              "  <style>\n",
              "    .colab-df-container {\n",
              "      display:flex;\n",
              "      gap: 12px;\n",
              "    }\n",
              "\n",
              "    .colab-df-convert {\n",
              "      background-color: #E8F0FE;\n",
              "      border: none;\n",
              "      border-radius: 50%;\n",
              "      cursor: pointer;\n",
              "      display: none;\n",
              "      fill: #1967D2;\n",
              "      height: 32px;\n",
              "      padding: 0 0 0 0;\n",
              "      width: 32px;\n",
              "    }\n",
              "\n",
              "    .colab-df-convert:hover {\n",
              "      background-color: #E2EBFA;\n",
              "      box-shadow: 0px 1px 2px rgba(60, 64, 67, 0.3), 0px 1px 3px 1px rgba(60, 64, 67, 0.15);\n",
              "      fill: #174EA6;\n",
              "    }\n",
              "\n",
              "    .colab-df-buttons div {\n",
              "      margin-bottom: 4px;\n",
              "    }\n",
              "\n",
              "    [theme=dark] .colab-df-convert {\n",
              "      background-color: #3B4455;\n",
              "      fill: #D2E3FC;\n",
              "    }\n",
              "\n",
              "    [theme=dark] .colab-df-convert:hover {\n",
              "      background-color: #434B5C;\n",
              "      box-shadow: 0px 1px 3px 1px rgba(0, 0, 0, 0.15);\n",
              "      filter: drop-shadow(0px 1px 2px rgba(0, 0, 0, 0.3));\n",
              "      fill: #FFFFFF;\n",
              "    }\n",
              "  </style>\n",
              "\n",
              "    <script>\n",
              "      const buttonEl =\n",
              "        document.querySelector('#df-f55a3a39-6d07-46c5-a49f-b9bed7e1af78 button.colab-df-convert');\n",
              "      buttonEl.style.display =\n",
              "        google.colab.kernel.accessAllowed ? 'block' : 'none';\n",
              "\n",
              "      async function convertToInteractive(key) {\n",
              "        const element = document.querySelector('#df-f55a3a39-6d07-46c5-a49f-b9bed7e1af78');\n",
              "        const dataTable =\n",
              "          await google.colab.kernel.invokeFunction('convertToInteractive',\n",
              "                                                    [key], {});\n",
              "        if (!dataTable) return;\n",
              "\n",
              "        const docLinkHtml = 'Like what you see? Visit the ' +\n",
              "          '<a target=\"_blank\" href=https://colab.research.google.com/notebooks/data_table.ipynb>data table notebook</a>'\n",
              "          + ' to learn more about interactive tables.';\n",
              "        element.innerHTML = '';\n",
              "        dataTable['output_type'] = 'display_data';\n",
              "        await google.colab.output.renderOutput(dataTable, element);\n",
              "        const docLink = document.createElement('div');\n",
              "        docLink.innerHTML = docLinkHtml;\n",
              "        element.appendChild(docLink);\n",
              "      }\n",
              "    </script>\n",
              "  </div>\n",
              "\n",
              "\n",
              "<div id=\"df-bef51fb3-65f1-4d7b-939e-305e224c1b9d\">\n",
              "  <button class=\"colab-df-quickchart\" onclick=\"quickchart('df-bef51fb3-65f1-4d7b-939e-305e224c1b9d')\"\n",
              "            title=\"Suggest charts\"\n",
              "            style=\"display:none;\">\n",
              "\n",
              "<svg xmlns=\"http://www.w3.org/2000/svg\" height=\"24px\"viewBox=\"0 0 24 24\"\n",
              "     width=\"24px\">\n",
              "    <g>\n",
              "        <path d=\"M19 3H5c-1.1 0-2 .9-2 2v14c0 1.1.9 2 2 2h14c1.1 0 2-.9 2-2V5c0-1.1-.9-2-2-2zM9 17H7v-7h2v7zm4 0h-2V7h2v10zm4 0h-2v-4h2v4z\"/>\n",
              "    </g>\n",
              "</svg>\n",
              "  </button>\n",
              "\n",
              "<style>\n",
              "  .colab-df-quickchart {\n",
              "      --bg-color: #E8F0FE;\n",
              "      --fill-color: #1967D2;\n",
              "      --hover-bg-color: #E2EBFA;\n",
              "      --hover-fill-color: #174EA6;\n",
              "      --disabled-fill-color: #AAA;\n",
              "      --disabled-bg-color: #DDD;\n",
              "  }\n",
              "\n",
              "  [theme=dark] .colab-df-quickchart {\n",
              "      --bg-color: #3B4455;\n",
              "      --fill-color: #D2E3FC;\n",
              "      --hover-bg-color: #434B5C;\n",
              "      --hover-fill-color: #FFFFFF;\n",
              "      --disabled-bg-color: #3B4455;\n",
              "      --disabled-fill-color: #666;\n",
              "  }\n",
              "\n",
              "  .colab-df-quickchart {\n",
              "    background-color: var(--bg-color);\n",
              "    border: none;\n",
              "    border-radius: 50%;\n",
              "    cursor: pointer;\n",
              "    display: none;\n",
              "    fill: var(--fill-color);\n",
              "    height: 32px;\n",
              "    padding: 0;\n",
              "    width: 32px;\n",
              "  }\n",
              "\n",
              "  .colab-df-quickchart:hover {\n",
              "    background-color: var(--hover-bg-color);\n",
              "    box-shadow: 0 1px 2px rgba(60, 64, 67, 0.3), 0 1px 3px 1px rgba(60, 64, 67, 0.15);\n",
              "    fill: var(--button-hover-fill-color);\n",
              "  }\n",
              "\n",
              "  .colab-df-quickchart-complete:disabled,\n",
              "  .colab-df-quickchart-complete:disabled:hover {\n",
              "    background-color: var(--disabled-bg-color);\n",
              "    fill: var(--disabled-fill-color);\n",
              "    box-shadow: none;\n",
              "  }\n",
              "\n",
              "  .colab-df-spinner {\n",
              "    border: 2px solid var(--fill-color);\n",
              "    border-color: transparent;\n",
              "    border-bottom-color: var(--fill-color);\n",
              "    animation:\n",
              "      spin 1s steps(1) infinite;\n",
              "  }\n",
              "\n",
              "  @keyframes spin {\n",
              "    0% {\n",
              "      border-color: transparent;\n",
              "      border-bottom-color: var(--fill-color);\n",
              "      border-left-color: var(--fill-color);\n",
              "    }\n",
              "    20% {\n",
              "      border-color: transparent;\n",
              "      border-left-color: var(--fill-color);\n",
              "      border-top-color: var(--fill-color);\n",
              "    }\n",
              "    30% {\n",
              "      border-color: transparent;\n",
              "      border-left-color: var(--fill-color);\n",
              "      border-top-color: var(--fill-color);\n",
              "      border-right-color: var(--fill-color);\n",
              "    }\n",
              "    40% {\n",
              "      border-color: transparent;\n",
              "      border-right-color: var(--fill-color);\n",
              "      border-top-color: var(--fill-color);\n",
              "    }\n",
              "    60% {\n",
              "      border-color: transparent;\n",
              "      border-right-color: var(--fill-color);\n",
              "    }\n",
              "    80% {\n",
              "      border-color: transparent;\n",
              "      border-right-color: var(--fill-color);\n",
              "      border-bottom-color: var(--fill-color);\n",
              "    }\n",
              "    90% {\n",
              "      border-color: transparent;\n",
              "      border-bottom-color: var(--fill-color);\n",
              "    }\n",
              "  }\n",
              "</style>\n",
              "\n",
              "  <script>\n",
              "    async function quickchart(key) {\n",
              "      const quickchartButtonEl =\n",
              "        document.querySelector('#' + key + ' button');\n",
              "      quickchartButtonEl.disabled = true;  // To prevent multiple clicks.\n",
              "      quickchartButtonEl.classList.add('colab-df-spinner');\n",
              "      try {\n",
              "        const charts = await google.colab.kernel.invokeFunction(\n",
              "            'suggestCharts', [key], {});\n",
              "      } catch (error) {\n",
              "        console.error('Error during call to suggestCharts:', error);\n",
              "      }\n",
              "      quickchartButtonEl.classList.remove('colab-df-spinner');\n",
              "      quickchartButtonEl.classList.add('colab-df-quickchart-complete');\n",
              "    }\n",
              "    (() => {\n",
              "      let quickchartButtonEl =\n",
              "        document.querySelector('#df-bef51fb3-65f1-4d7b-939e-305e224c1b9d button');\n",
              "      quickchartButtonEl.style.display =\n",
              "        google.colab.kernel.accessAllowed ? 'block' : 'none';\n",
              "    })();\n",
              "  </script>\n",
              "</div>\n",
              "    </div>\n",
              "  </div>\n"
            ]
          },
          "metadata": {},
          "execution_count": 4
        }
      ]
    },
    {
      "cell_type": "markdown",
      "source": [
        "Поля датасета:\n",
        "\n",
        "\n",
        "\n",
        "*   ***country*** - Страна покупателя самолетов\n",
        "*   ***customer*** - Клиент-авиакомпания\n",
        "*   ***delivery_year*** - год доставки самолета\n",
        "*   ***engine*** - мотор, установленный в самолете\n",
        "*   ***model*** - модель самолета\n",
        "*   ***month*** - месяц поставки\n",
        "*   ***year*** - год заключения сделки\n",
        "*   ***delivery_total*** - общее количество доставленных самолетов\n",
        "*   ***order_total*** - общее количество заказанных самолетов\n",
        "*   ***unfilled_orders*** - число недоставленных по изначальному заказу самолетов\n",
        "\n"
      ],
      "metadata": {
        "id": "xhjWRwchj6Bi"
      }
    },
    {
      "cell_type": "code",
      "source": [
        "df.info()"
      ],
      "metadata": {
        "colab": {
          "base_uri": "https://localhost:8080/"
        },
        "id": "3R1AaTijEl9C",
        "outputId": "84bad681-bc48-4c7c-de00-b7a2e2f2c9a8"
      },
      "execution_count": null,
      "outputs": [
        {
          "output_type": "stream",
          "name": "stdout",
          "text": [
            "<class 'pandas.core.frame.DataFrame'>\n",
            "RangeIndex: 8002 entries, 0 to 8001\n",
            "Data columns (total 12 columns):\n",
            " #   Column           Non-Null Count  Dtype \n",
            "---  ------           --------------  ----- \n",
            " 0   Unnamed: 0       8002 non-null   int64 \n",
            " 1   country          8002 non-null   object\n",
            " 2   customer         8002 non-null   object\n",
            " 3   delivery_year    8002 non-null   int64 \n",
            " 4   engine           8002 non-null   object\n",
            " 5   model            8002 non-null   object\n",
            " 6   month            8002 non-null   object\n",
            " 7   year             8002 non-null   int64 \n",
            " 8   region           8002 non-null   object\n",
            " 9   delivery_total   8002 non-null   int64 \n",
            " 10  order_total      8002 non-null   int64 \n",
            " 11  unfilled_orders  8002 non-null   int64 \n",
            "dtypes: int64(6), object(6)\n",
            "memory usage: 750.3+ KB\n"
          ]
        }
      ]
    },
    {
      "cell_type": "markdown",
      "source": [
        "Итак, создатели датасета, изначально выделили три сильно связанных метрики: *количество заказанных, количество доставленных и количество недоставленных самолетов*. Однако сперва стоит проверить информативность третьей метрики (вдруг она почти всюду равна нулю)"
      ],
      "metadata": {
        "id": "mZsdFXkqk1m2"
      }
    },
    {
      "cell_type": "markdown",
      "source": [
        "Для этого проверим при помощи одновыборочного критерия Стьюдента *равенство среднего значения 0 против двухсторонней альтернативы* (здесь и далее уровень значимости проверяемых гипотез - 0.05)"
      ],
      "metadata": {
        "id": "TDJrnUNWlWHW"
      }
    },
    {
      "cell_type": "code",
      "source": [
        "st.ttest_1samp(df.groupby('country')['unfilled_orders'].sum(), popmean=0)"
      ],
      "metadata": {
        "colab": {
          "base_uri": "https://localhost:8080/"
        },
        "id": "kHO62vwtVgVF",
        "outputId": "f6ab775a-aa1c-4597-a868-ae656635deba"
      },
      "execution_count": null,
      "outputs": [
        {
          "output_type": "execute_result",
          "data": {
            "text/plain": [
              "TtestResult(statistic=-1.8724142027918698, pvalue=0.06346717297612614, df=126)"
            ]
          },
          "metadata": {},
          "execution_count": 7
        }
      ]
    },
    {
      "cell_type": "markdown",
      "source": [
        "Полученный p-уровень больше заданного, следовательное *нулевую гипотезу мы не отвергаем и можем сказать, что данная метрика не особо информативна*."
      ],
      "metadata": {
        "id": "7Oc5WJEumkqa"
      }
    },
    {
      "cell_type": "markdown",
      "source": [
        "Предлагается ввести другую метрику - ***задержка доставки*** (***delivery_lag***); численно она будет равна разности между годом оформления заказа и годом его получения"
      ],
      "metadata": {
        "id": "ntk32OK-m4p1"
      }
    },
    {
      "cell_type": "code",
      "source": [
        "df['delivery_lag'] = df['delivery_year'] - df['year']"
      ],
      "metadata": {
        "id": "bVw4NoDkSjiC"
      },
      "execution_count": null,
      "outputs": []
    },
    {
      "cell_type": "markdown",
      "source": [
        "Введем в рассмотрение три временных сегмента заказов:\n",
        "\n",
        "\n",
        "\n",
        "1.   ***Ранние*** - заказы совершенные в период с **1958** по **1980** годы\n",
        "2.   ***Срединные*** - заказы совершенные в период с **1981** по **2000** годы\n",
        "3.   ***Позднейшие*** - заказы совершенные в период с **2001** по **2022** годы\n",
        "\n"
      ],
      "metadata": {
        "id": "lHoWkrt2nVwb"
      }
    },
    {
      "cell_type": "code",
      "source": [
        "early_years_df = (\n",
        "    df\n",
        "    .loc[df['delivery_year'] <= 1980]\n",
        "    .groupby('country')['delivery_total', 'order_total', 'delivery_lag']\n",
        "    .sum()\n",
        "    .reset_index()\n",
        ")\n",
        "\n",
        "middle_years_df = (\n",
        "    df\n",
        "    .loc[(1980 < df['delivery_year']) & (2000 >= df['delivery_year'])]\n",
        "    .groupby('country')['delivery_total', 'order_total', 'delivery_lag']\n",
        "    .sum()\n",
        "    .reset_index()\n",
        ")\n",
        "\n",
        "late_years_df = (\n",
        "    df\n",
        "    .loc[2000 < df['delivery_year']]\n",
        "    .groupby('country')['delivery_total', 'order_total', 'delivery_lag']\n",
        "    .sum()\n",
        "    .reset_index()\n",
        ")"
      ],
      "metadata": {
        "id": "bG06aP-xQG_7"
      },
      "execution_count": null,
      "outputs": []
    },
    {
      "cell_type": "markdown",
      "source": [
        "# **Исследование гипотез о среднем. Критерии Стьюдента и Фишера**"
      ],
      "metadata": {
        "id": "r2Bejd-LXoE1"
      }
    },
    {
      "cell_type": "markdown",
      "source": [
        "Сперва поработаем с метрикой общего числа поставок. Мы хотим посмотреть, **увеличилось ли в среднем число поставляемых самолетов через периоды**. Для этого воспользуемся *двухвыборочным критерием Стьюдента с одностороннней альтернативой* (в более раннем периоде в среднем было заказов **меньше**)."
      ],
      "metadata": {
        "id": "zfAMqIDmbXlm"
      }
    },
    {
      "cell_type": "code",
      "source": [
        "st.ttest_ind(early_years_df['delivery_total'], middle_years_df['delivery_total'], alternative='less')"
      ],
      "metadata": {
        "colab": {
          "base_uri": "https://localhost:8080/"
        },
        "id": "f3sKmdChWupa",
        "outputId": "d07a3dc4-7833-4d45-9494-add33a5b7537"
      },
      "execution_count": null,
      "outputs": [
        {
          "output_type": "execute_result",
          "data": {
            "text/plain": [
              "TtestResult(statistic=-0.4140212821228058, pvalue=0.3396716792448685, df=183.0)"
            ]
          },
          "metadata": {},
          "execution_count": 10
        }
      ]
    },
    {
      "cell_type": "code",
      "source": [
        "st.ttest_ind(middle_years_df['delivery_total'], late_years_df['delivery_total'], alternative='less')"
      ],
      "metadata": {
        "colab": {
          "base_uri": "https://localhost:8080/"
        },
        "id": "B-OefG7BWhH0",
        "outputId": "5c0b47cd-4307-4dab-c73a-5e438f3e4014"
      },
      "execution_count": null,
      "outputs": [
        {
          "output_type": "execute_result",
          "data": {
            "text/plain": [
              "TtestResult(statistic=-0.6508546117577634, pvalue=0.2579969999033299, df=175.0)"
            ]
          },
          "metadata": {},
          "execution_count": 11
        }
      ]
    },
    {
      "cell_type": "code",
      "source": [
        "st.ttest_ind(early_years_df['delivery_total'], late_years_df['delivery_total'], alternative='less')"
      ],
      "metadata": {
        "colab": {
          "base_uri": "https://localhost:8080/"
        },
        "id": "o4nmzx60SFHN",
        "outputId": "1fd04668-bd82-41ff-e7ab-4563bec1d6ba"
      },
      "execution_count": null,
      "outputs": [
        {
          "output_type": "execute_result",
          "data": {
            "text/plain": [
              "TtestResult(statistic=-1.0538279347257238, pvalue=0.14671991337617413, df=172.0)"
            ]
          },
          "metadata": {},
          "execution_count": 12
        }
      ]
    },
    {
      "cell_type": "markdown",
      "source": [
        "Как можно заметить, во всех трех парах p-уровень получился *больше заданного уровня значимости*, а значит мы *не можем утверждать, что число поставок в среднем увеличилось со временем*"
      ],
      "metadata": {
        "id": "x6DunXSSbXIs"
      }
    },
    {
      "cell_type": "markdown",
      "source": [
        "Убедимся, что и *двухвыборочный Критерий Фишера* даст аналогичные результаты"
      ],
      "metadata": {
        "id": "GXIJwAhyxxFn"
      }
    },
    {
      "cell_type": "code",
      "source": [
        "st.f_oneway(early_years_df['delivery_total'], middle_years_df['delivery_total'])"
      ],
      "metadata": {
        "colab": {
          "base_uri": "https://localhost:8080/"
        },
        "id": "bestll1WxewT",
        "outputId": "4bd704db-0b30-4781-84b5-13a0196b5449"
      },
      "execution_count": null,
      "outputs": [
        {
          "output_type": "execute_result",
          "data": {
            "text/plain": [
              "F_onewayResult(statistic=0.17141362205061195, pvalue=0.6793433584897393)"
            ]
          },
          "metadata": {},
          "execution_count": 28
        }
      ]
    },
    {
      "cell_type": "code",
      "source": [
        "st.f_oneway(middle_years_df['delivery_total'], late_years_df['delivery_total'])"
      ],
      "metadata": {
        "colab": {
          "base_uri": "https://localhost:8080/"
        },
        "id": "4I3RPLw8xizN",
        "outputId": "8c783980-dbf6-4a75-e635-730789fbc155"
      },
      "execution_count": null,
      "outputs": [
        {
          "output_type": "execute_result",
          "data": {
            "text/plain": [
              "F_onewayResult(statistic=0.42361172564634875, pvalue=0.5159939998066674)"
            ]
          },
          "metadata": {},
          "execution_count": 29
        }
      ]
    },
    {
      "cell_type": "code",
      "source": [
        "st.f_oneway(early_years_df['delivery_total'], late_years_df['delivery_total'])"
      ],
      "metadata": {
        "colab": {
          "base_uri": "https://localhost:8080/"
        },
        "id": "tJyfv60xxnBz",
        "outputId": "87143efd-be59-49a1-fe88-88d7019d6d4d"
      },
      "execution_count": null,
      "outputs": [
        {
          "output_type": "execute_result",
          "data": {
            "text/plain": [
              "F_onewayResult(statistic=1.1105533160082843, pvalue=0.2934398267523411)"
            ]
          },
          "metadata": {},
          "execution_count": 31
        }
      ]
    },
    {
      "cell_type": "markdown",
      "source": [
        "Наконец, проверим одновременное равенство средних всех трех периодов с помощью того же *критерия Фишера*, но уже для несколько сегментов"
      ],
      "metadata": {
        "id": "kEehhtY-x8Cp"
      }
    },
    {
      "cell_type": "code",
      "source": [
        "st.f_oneway(early_years_df['delivery_total'], middle_years_df['delivery_total'], late_years_df['delivery_total'])"
      ],
      "metadata": {
        "colab": {
          "base_uri": "https://localhost:8080/"
        },
        "id": "kVD25BU6yMB-",
        "outputId": "eff0fcb1-f0a8-4027-8f6d-131da28fd180"
      },
      "execution_count": null,
      "outputs": [
        {
          "output_type": "execute_result",
          "data": {
            "text/plain": [
              "F_onewayResult(statistic=0.5768117503540394, pvalue=0.5623899176306286)"
            ]
          },
          "metadata": {},
          "execution_count": 32
        }
      ]
    },
    {
      "cell_type": "markdown",
      "source": [
        "P-уровень получился больше заданного уровня значимости, следовательно **гипотезу о равенстве всех средних мы не отвергаем**"
      ],
      "metadata": {
        "id": "bdTlL-D-yY9S"
      }
    },
    {
      "cell_type": "markdown",
      "source": [
        "Теперь рассмотрим введенную выше метрику задержки поставки. Мы хотим узнать, **изменялась ли средняя задержка от одного периода к другому**. Для этого будем проверять равенство средних значений по сегментам, используя *двухвыборочный критерий Стьюдента с двухсторонней альтернативой*"
      ],
      "metadata": {
        "id": "1wNO3u6jbWtV"
      }
    },
    {
      "cell_type": "code",
      "source": [
        "st.ttest_ind(early_years_df['delivery_lag'], middle_years_df['delivery_lag'])"
      ],
      "metadata": {
        "colab": {
          "base_uri": "https://localhost:8080/"
        },
        "id": "hFEHIyVWX2tc",
        "outputId": "9dd0bcc7-bfd9-420d-8dac-5fc72e98256a"
      },
      "execution_count": null,
      "outputs": [
        {
          "output_type": "execute_result",
          "data": {
            "text/plain": [
              "TtestResult(statistic=-1.2271560224224747, pvalue=0.22134030071743296, df=183.0)"
            ]
          },
          "metadata": {},
          "execution_count": 13
        }
      ]
    },
    {
      "cell_type": "code",
      "source": [
        "st.ttest_ind(middle_years_df['delivery_lag'], late_years_df['delivery_lag'])"
      ],
      "metadata": {
        "colab": {
          "base_uri": "https://localhost:8080/"
        },
        "id": "mQs-kMvdYi9y",
        "outputId": "81e94dab-cbc4-4ebc-95e8-112eafe2ff00"
      },
      "execution_count": null,
      "outputs": [
        {
          "output_type": "execute_result",
          "data": {
            "text/plain": [
              "TtestResult(statistic=-1.4182684916756096, pvalue=0.15789070578750794, df=175.0)"
            ]
          },
          "metadata": {},
          "execution_count": 14
        }
      ]
    },
    {
      "cell_type": "code",
      "source": [
        "st.ttest_ind(early_years_df['delivery_lag'], late_years_df['delivery_lag'])"
      ],
      "metadata": {
        "colab": {
          "base_uri": "https://localhost:8080/"
        },
        "id": "lt27vfmwYOoy",
        "outputId": "a5f5ee6d-262d-48d3-9584-923ff08f1d3b"
      },
      "execution_count": null,
      "outputs": [
        {
          "output_type": "execute_result",
          "data": {
            "text/plain": [
              "TtestResult(statistic=-2.139064500744008, pvalue=0.03384108147505869, df=172.0)"
            ]
          },
          "metadata": {},
          "execution_count": 15
        }
      ]
    },
    {
      "cell_type": "markdown",
      "source": [
        "Для первых двух пар мы *не отвергаем гипотезу о равенстве средних* (так как p-уровень больше заданного уровня значимости). В последнем же случае *гипотеза о равенстве средних отвергается*, а значит *среднее время задержки отличается для поставок из раннего временного сегмента и позднего*. Чтобы понять, в какую сторону изменилось среднее значение задержки, можем вновь применить *двухвыборочный критерий Стьюдента*, но уже *с левосторонней альтернативой*."
      ],
      "metadata": {
        "id": "x6D5rQaJbUG-"
      }
    },
    {
      "cell_type": "code",
      "source": [
        "st.ttest_ind(early_years_df['delivery_lag'], late_years_df['delivery_lag'], alternative='less')"
      ],
      "metadata": {
        "colab": {
          "base_uri": "https://localhost:8080/"
        },
        "id": "lt38yG6Gq5JQ",
        "outputId": "4d537bea-5d3d-4243-d0d7-7260cc0dcfc7"
      },
      "execution_count": null,
      "outputs": [
        {
          "output_type": "execute_result",
          "data": {
            "text/plain": [
              "TtestResult(statistic=-2.139064500744008, pvalue=0.016920540737529344, df=172.0)"
            ]
          },
          "metadata": {},
          "execution_count": 16
        }
      ]
    },
    {
      "cell_type": "markdown",
      "source": [
        "Нулевая гипотеза о равенстве средних вновь *отвергнута в пользу односторонней альтернативы*, а значит мы можем утверждать, что *средняя задержка для доставки увеличилась с течением времени*. Это можно попробовать обосновать как усложнившимися технологиями производства, так и возросшим доверием авиакомпаний к производителю (то есть их готовностью заключать контракты с более длительным сроком реализации, не боясь, что компания-поставщик разорится или не сможет выполнить контрактыне обязательства)"
      ],
      "metadata": {
        "id": "H2ADWBKnq41x"
      }
    },
    {
      "cell_type": "markdown",
      "source": [
        "Проделаем те же самые проверки, используя *критерий Фишера*"
      ],
      "metadata": {
        "id": "Kkx0cNhWbGgg"
      }
    },
    {
      "cell_type": "code",
      "source": [
        "st.f_oneway(early_years_df['delivery_lag'], middle_years_df['delivery_lag'])"
      ],
      "metadata": {
        "colab": {
          "base_uri": "https://localhost:8080/"
        },
        "id": "pd9tmEi9Zb2y",
        "outputId": "82d83d17-9fc4-4217-cc6a-b8e2085ff96e"
      },
      "execution_count": null,
      "outputs": [
        {
          "output_type": "execute_result",
          "data": {
            "text/plain": [
              "F_onewayResult(statistic=1.5059119033677502, pvalue=0.22134030071743344)"
            ]
          },
          "metadata": {},
          "execution_count": 17
        }
      ]
    },
    {
      "cell_type": "code",
      "source": [
        "st.f_oneway(middle_years_df['delivery_lag'], late_years_df['delivery_lag'])"
      ],
      "metadata": {
        "colab": {
          "base_uri": "https://localhost:8080/"
        },
        "id": "Bw8Wrd7wa3NZ",
        "outputId": "ae7a4bcd-09e4-416e-f81b-06eaec1060c0"
      },
      "execution_count": null,
      "outputs": [
        {
          "output_type": "execute_result",
          "data": {
            "text/plain": [
              "F_onewayResult(statistic=2.011485514479808, pvalue=0.15789070578750844)"
            ]
          },
          "metadata": {},
          "execution_count": 18
        }
      ]
    },
    {
      "cell_type": "code",
      "source": [
        "st.f_oneway(early_years_df['delivery_lag'], late_years_df['delivery_lag'])"
      ],
      "metadata": {
        "colab": {
          "base_uri": "https://localhost:8080/"
        },
        "id": "FmW_P1oZbDzr",
        "outputId": "b9dac409-4051-4691-e2bc-9d084a463fb5"
      },
      "execution_count": null,
      "outputs": [
        {
          "output_type": "execute_result",
          "data": {
            "text/plain": [
              "F_onewayResult(statistic=4.575596938343213, pvalue=0.03384108147505868)"
            ]
          },
          "metadata": {},
          "execution_count": 19
        }
      ]
    },
    {
      "cell_type": "markdown",
      "source": [
        "Используя *двухвыборочный критерий Фишера* мы получили аналогичные результаты: в первых двух случаях *нулевую гипотезу о равенстве средних не отвергаем*, в последнем - *отвергаем*"
      ],
      "metadata": {
        "id": "8MbmE5gsbVeH"
      }
    },
    {
      "cell_type": "markdown",
      "source": [
        "Попробуем применить *критерий Фишера* сразу для всех трех сегментов"
      ],
      "metadata": {
        "id": "Z8HGe0K_bG8C"
      }
    },
    {
      "cell_type": "code",
      "source": [
        "st.f_oneway(early_years_df['delivery_lag'], middle_years_df['delivery_lag'], late_years_df['delivery_lag'])"
      ],
      "metadata": {
        "colab": {
          "base_uri": "https://localhost:8080/"
        },
        "id": "CTcEVDg9bHRu",
        "outputId": "400701d9-7974-472f-f332-2ebb737024c3"
      },
      "execution_count": null,
      "outputs": [
        {
          "output_type": "execute_result",
          "data": {
            "text/plain": [
              "F_onewayResult(statistic=2.989890692062178, pvalue=0.05199249129603271)"
            ]
          },
          "metadata": {},
          "execution_count": 20
        }
      ]
    },
    {
      "cell_type": "markdown",
      "source": [
        "На удивление, гипотезу о равенстве средних на текущем уровне значимости *не отвергаем*. На самом деле, применение критерия Фишера в нашем случае несовсем правомерно, ибо *дисперсии величин сильно различаются* (сейчас достаточно будет поглядеть на разницу в выборочных дисперсиях, формально проверим это ниже)"
      ],
      "metadata": {
        "id": "Vj45ETn9bS8n"
      }
    },
    {
      "cell_type": "code",
      "source": [
        "early_years_df['delivery_lag'].std(ddof=1)"
      ],
      "metadata": {
        "colab": {
          "base_uri": "https://localhost:8080/"
        },
        "id": "gBegu9Dtw2P7",
        "outputId": "3c027db2-2875-4144-808f-ae482a84d759"
      },
      "execution_count": null,
      "outputs": [
        {
          "output_type": "execute_result",
          "data": {
            "text/plain": [
              "132.87680634875926"
            ]
          },
          "metadata": {},
          "execution_count": 21
        }
      ]
    },
    {
      "cell_type": "code",
      "source": [
        "middle_years_df['delivery_lag'].std(ddof=1)"
      ],
      "metadata": {
        "colab": {
          "base_uri": "https://localhost:8080/"
        },
        "id": "wGz5Bwr-w8gz",
        "outputId": "70cd0a32-4994-4362-cbcf-cd7994da9982"
      },
      "execution_count": null,
      "outputs": [
        {
          "output_type": "execute_result",
          "data": {
            "text/plain": [
              "236.67476238082727"
            ]
          },
          "metadata": {},
          "execution_count": 22
        }
      ]
    },
    {
      "cell_type": "code",
      "source": [
        "late_years_df['delivery_lag'].std(ddof=1)"
      ],
      "metadata": {
        "colab": {
          "base_uri": "https://localhost:8080/"
        },
        "id": "rB67tI3gw-aR",
        "outputId": "aa6243b4-5447-440a-daf5-4e727179e8dd"
      },
      "execution_count": null,
      "outputs": [
        {
          "output_type": "execute_result",
          "data": {
            "text/plain": [
              "503.6706867989471"
            ]
          },
          "metadata": {},
          "execution_count": 23
        }
      ]
    },
    {
      "cell_type": "markdown",
      "source": [
        "**Доверительные интервалы для средних**"
      ],
      "metadata": {
        "id": "FWDemWY1cCor"
      }
    },
    {
      "cell_type": "markdown",
      "source": [
        "Попробуем построить доверительные интервалы для среднего исследуемых метрик по сегментам"
      ],
      "metadata": {
        "id": "CXkdkP4dcu7d"
      }
    },
    {
      "cell_type": "code",
      "source": [
        "def precise_interval(rvs, alpha=0.05):\n",
        "  \"\"\"\n",
        "      Построение точного доверительного интервала для среднего значения по выборке rvs на уровне доверия 1 - alpha\n",
        "  \"\"\"\n",
        "  n = rvs.shape[0]\n",
        "  t_crit = st.t.ppf(1 - alpha / 2, df=n-1, loc=0, scale=1) # Получение необходимой квантили стандартного нормального распределения\n",
        "\n",
        "  left = rvs.mean() - t_crit * np.sqrt(rvs.var(ddof=1) / n) # Расчет левой границы интервала\n",
        "  right = rvs.mean() + t_crit * np.sqrt(rvs.var(ddof=1) / n) # Расчет правой границы интервала\n",
        "\n",
        "  return left, right"
      ],
      "metadata": {
        "id": "Y3ZhXSC6cH8J"
      },
      "execution_count": null,
      "outputs": []
    },
    {
      "cell_type": "code",
      "source": [
        "def bootstrap_interval(rvs, stat=np.mean, alpha=0.05):\n",
        "  \"\"\"\n",
        "      Построение эфронова доверительного интервала для выбранной статистики stat (передаваемой в виде функции) по выборке rvs на уровне доверия 1 - alpha\n",
        "  \"\"\"\n",
        "  n = rvs.shape[0]\n",
        "  distribution_lst = []\n",
        "  for _ in range(100):\n",
        "    a_ = np.random.choice(rvs, size=n, replace=True) # Получение подвыборки\n",
        "    distribution_lst.append(stat(a_)) # Расчет искомой статистики для подвыборки и добавление в псевдораспределение\n",
        "\n",
        "  return np.percentile(distribution_lst, q=[alpha / 2 * 100, (1 - alpha / 2) * 100]) # Возвращение требуемого доверительного интервала по полученному псевдораспределению статистики"
      ],
      "metadata": {
        "id": "wWsHEcMPcvVn"
      },
      "execution_count": null,
      "outputs": []
    },
    {
      "cell_type": "markdown",
      "source": [
        "Сперва построим точные доверительные интервалы"
      ],
      "metadata": {
        "id": "A5hyEUhYBb8p"
      }
    },
    {
      "cell_type": "code",
      "source": [
        "for metrics in ['delivery_total', 'delivery_lag']:\n",
        "  print(\"Точные доверительные интервалы для \" + metrics)\n",
        "  print(f\"early_years_df - {precise_interval(early_years_df[metrics])}\")\n",
        "  print(f\"middle_years_df - {precise_interval(middle_years_df[metrics])}\")\n",
        "  print(f\"late_years_df - {precise_interval(late_years_df[metrics])}\")\n",
        "  print(\"---\")"
      ],
      "metadata": {
        "colab": {
          "base_uri": "https://localhost:8080/"
        },
        "id": "bzzVbSuYhlRB",
        "outputId": "a74cf2c3-3c59-4f72-fae8-ddb670efc87f"
      },
      "execution_count": null,
      "outputs": [
        {
          "output_type": "stream",
          "name": "stdout",
          "text": [
            "Точные доверительные интервалы для delivery_total\n",
            "early_years_df - (-6.485055463704434, 130.44109941974838)\n",
            "middle_years_df - (4.474575964609343, 163.31265807794387)\n",
            "late_years_df - (25.22188185935441, 225.35643139365766)\n",
            "---\n",
            "Точные доверительные интервалы для delivery_lag\n",
            "early_years_df - (4.425966826533969, 59.77183537126824)\n",
            "middle_years_df - (18.40729691847578, 115.35866052833272)\n",
            "late_years_df - (39.261407434752684, 259.22052027609067)\n",
            "---\n"
          ]
        }
      ]
    },
    {
      "cell_type": "markdown",
      "source": [
        "В случае для delivery_total мы получили интервалы с достаточно большим общим пересечением, что может косвенно свидетельствовать в пользу совпадения средних (для первого сегмента левая граница оказалась меньше нуля, что не моежт быть физически, поэтому можно считать, что там стоит 0)\n",
        "\n",
        "Для delivery_lag получившиеся интервалы также имеют общее пересечение, однако в случае первого и третьего сегмента это пересечение уже достаточно мало (следовательно велик шанс, что среднее у них не сопадет, что мы и получили выше)"
      ],
      "metadata": {
        "id": "WWb_VCsLBtE0"
      }
    },
    {
      "cell_type": "markdown",
      "source": [
        "Теперь для построения доверительных интервалов воспользуемся бутстрэпом"
      ],
      "metadata": {
        "id": "aRGrhdkyBii4"
      }
    },
    {
      "cell_type": "code",
      "source": [
        "for metrics in ['delivery_total', 'delivery_lag']:\n",
        "  print(\"Эфроновы доверительные интервалы для \" + metrics)\n",
        "  print(f\"early_years_df - {bootstrap_interval(early_years_df[metrics])}\")\n",
        "  print(f\"middle_years_df - {bootstrap_interval(middle_years_df[metrics])}\")\n",
        "  print(f\"late_years_df - {bootstrap_interval(late_years_df[metrics])}\")\n",
        "  print(\"---\")"
      ],
      "metadata": {
        "colab": {
          "base_uri": "https://localhost:8080/"
        },
        "id": "RLNBvEx0inLr",
        "outputId": "66037fb4-01e3-4fec-88a4-30b1d40877d8"
      },
      "execution_count": null,
      "outputs": [
        {
          "output_type": "stream",
          "name": "stdout",
          "text": [
            "Эфроновы доверительные интервалы для delivery_total\n",
            "early_years_df - [ 21.19752747 126.74065934]\n",
            "middle_years_df - [ 33.73510638 165.15106383]\n",
            "late_years_df - [ 56.87018072 233.30150602]\n",
            "---\n",
            "Эфроновы доверительные интервалы для delivery_lag\n",
            "early_years_df - [14.77142857 60.73214286]\n",
            "middle_years_df - [ 34.35691489 114.06861702]\n",
            "late_years_df - [ 74.95722892 263.91415663]\n",
            "---\n"
          ]
        }
      ]
    },
    {
      "cell_type": "markdown",
      "source": [
        "По полученным эфроновым интервалам можно во многом сделать те же выводы, что и для точнх; примечательно лишь то, что для delivery_lag доверительный интервал для среднего у первого сегмента вообще не имеет пересечения с интервалом у третьего, что опять же сигнализирует и возможном расхождении средних значений у этих сегментов"
      ],
      "metadata": {
        "id": "dWnM8vJ5_XLT"
      }
    },
    {
      "cell_type": "markdown",
      "source": [
        "# **Cхожесть функций распределения. Критерий Манна-Уитни**"
      ],
      "metadata": {
        "id": "TJQQ7oM1YQcr"
      }
    },
    {
      "cell_type": "markdown",
      "source": [
        "Рассмотрим ранее неиспользовавшуюся метрику order_total. В предыдущем разделе мы увидели, что непоставки самолета начали происходить только в последнем периоде, а значит можно предположить, что большая часть заказов исполнена полностью. Давайте проверим **схожесть распределений метрик delivery_total и order_total** по всему датасету при помощи *критерия Манна-Уитни с двухсторонней альтернативой*"
      ],
      "metadata": {
        "id": "c9sgfhQmboT_"
      }
    },
    {
      "cell_type": "code",
      "source": [
        "st.mannwhitneyu(df.groupby('country')['delivery_total'].sum(), df.groupby('country')['order_total'].sum())"
      ],
      "metadata": {
        "colab": {
          "base_uri": "https://localhost:8080/"
        },
        "id": "WDfYSpDrW0Mc",
        "outputId": "9963d6ad-c66b-42df-9974-612d9adc805c"
      },
      "execution_count": null,
      "outputs": [
        {
          "output_type": "execute_result",
          "data": {
            "text/plain": [
              "MannwhitneyuResult(statistic=8066.5, pvalue=0.9979528673615058)"
            ]
          },
          "metadata": {},
          "execution_count": 33
        }
      ]
    },
    {
      "cell_type": "markdown",
      "source": [
        "Как мы видим, p-уровень явно больше заданного уровня значимости, а значит нулевую *гипотезу о схожести распределений мы не отвергаем*"
      ],
      "metadata": {
        "id": "OShxKXcGbpIs"
      }
    },
    {
      "cell_type": "markdown",
      "source": [
        "Применим тот же критерий для каждого сегмента"
      ],
      "metadata": {
        "id": "bYc5u5QNbotn"
      }
    },
    {
      "cell_type": "code",
      "source": [
        "st.mannwhitneyu(early_years_df['delivery_total'].values, early_years_df['order_total'].values)"
      ],
      "metadata": {
        "colab": {
          "base_uri": "https://localhost:8080/"
        },
        "id": "M73vjflKbixu",
        "outputId": "83976eb7-379a-4716-e4fc-4f30ba3995b5"
      },
      "execution_count": null,
      "outputs": [
        {
          "output_type": "execute_result",
          "data": {
            "text/plain": [
              "MannwhitneyuResult(statistic=4140.5, pvalue=1.0)"
            ]
          },
          "metadata": {},
          "execution_count": 63
        }
      ]
    },
    {
      "cell_type": "code",
      "source": [
        "st.mannwhitneyu(middle_years_df['delivery_total'].values, middle_years_df['order_total'].values)"
      ],
      "metadata": {
        "colab": {
          "base_uri": "https://localhost:8080/"
        },
        "id": "ICqua9WHbf1e",
        "outputId": "f8b7fb28-1c6b-4cd9-eed4-64285d584490"
      },
      "execution_count": null,
      "outputs": [
        {
          "output_type": "execute_result",
          "data": {
            "text/plain": [
              "MannwhitneyuResult(statistic=4418.0, pvalue=1.0)"
            ]
          },
          "metadata": {},
          "execution_count": 64
        }
      ]
    },
    {
      "cell_type": "code",
      "source": [
        "st.mannwhitneyu(late_years_df['delivery_total'].values, late_years_df['order_total'].values)"
      ],
      "metadata": {
        "colab": {
          "base_uri": "https://localhost:8080/"
        },
        "id": "YuswDZ2HXY4t",
        "outputId": "ee626e5b-dd84-4a45-f56c-e6c4c2893d9d"
      },
      "execution_count": null,
      "outputs": [
        {
          "output_type": "execute_result",
          "data": {
            "text/plain": [
              "MannwhitneyuResult(statistic=3448.0, pvalue=0.9922634986814639)"
            ]
          },
          "metadata": {},
          "execution_count": 65
        }
      ]
    },
    {
      "cell_type": "markdown",
      "source": [
        "И снова во всех случаях мы не можем отвергнуть нулевую гипотезу, а значит *распределение этих метрик совпадает и внутри различных периодов*; другими словами, статистически значимым будет вывод о *полном исполнении своих обязательств компанией*"
      ],
      "metadata": {
        "id": "yWaffBnabnvT"
      }
    },
    {
      "cell_type": "markdown",
      "source": [
        "Теперь давайте применим *критерий Манна-Уитни* для различных сегментов чтобы понять, **изменялось ли распределение объемов заказов** (то есть метрики order_total) **с течением времени**"
      ],
      "metadata": {
        "id": "u6jWvmMMGqGi"
      }
    },
    {
      "cell_type": "code",
      "source": [
        "st.mannwhitneyu(early_years_df['order_total'], middle_years_df['order_total'])"
      ],
      "metadata": {
        "colab": {
          "base_uri": "https://localhost:8080/"
        },
        "id": "R-SXy2d1Geuf",
        "outputId": "fdf69dbc-e802-49e3-c23b-63393f588460"
      },
      "execution_count": null,
      "outputs": [
        {
          "output_type": "execute_result",
          "data": {
            "text/plain": [
              "MannwhitneyuResult(statistic=4205.5, pvalue=0.8451584551126978)"
            ]
          },
          "metadata": {},
          "execution_count": 34
        }
      ]
    },
    {
      "cell_type": "code",
      "source": [
        "st.mannwhitneyu(middle_years_df['order_total'], late_years_df['order_total'])"
      ],
      "metadata": {
        "colab": {
          "base_uri": "https://localhost:8080/"
        },
        "id": "1KrjSjNOHIs_",
        "outputId": "124e390f-bb28-4401-b10f-6f12ad0af80e"
      },
      "execution_count": null,
      "outputs": [
        {
          "output_type": "execute_result",
          "data": {
            "text/plain": [
              "MannwhitneyuResult(statistic=3279.5, pvalue=0.06761065903819423)"
            ]
          },
          "metadata": {},
          "execution_count": 35
        }
      ]
    },
    {
      "cell_type": "code",
      "source": [
        "st.mannwhitneyu(early_years_df['order_total'], late_years_df['order_total'])"
      ],
      "metadata": {
        "colab": {
          "base_uri": "https://localhost:8080/"
        },
        "id": "2JGt0SHhHNe5",
        "outputId": "5a0ae8a2-f760-4e7d-80c8-16ad6e3db07e"
      },
      "execution_count": null,
      "outputs": [
        {
          "output_type": "execute_result",
          "data": {
            "text/plain": [
              "MannwhitneyuResult(statistic=3062.5, pvalue=0.031417456950211184)"
            ]
          },
          "metadata": {},
          "execution_count": 36
        }
      ]
    },
    {
      "cell_type": "markdown",
      "source": [
        "По полученным результатам можно сделать вывод, что р*аспределение объемов заказов в соседних периодах не имеет статистически значимых различий*, тогда как между первым и третьим периодами таковые имеются"
      ],
      "metadata": {
        "id": "i0Pzl8qqHVwr"
      }
    },
    {
      "cell_type": "markdown",
      "source": [
        "Наконец, сравним распределения задержек перед поставками для всех трех периодов (опять используя *критерий Манна-Уитни*)"
      ],
      "metadata": {
        "id": "QN4xe7adH_Bt"
      }
    },
    {
      "cell_type": "code",
      "source": [
        "st.mannwhitneyu(early_years_df['delivery_lag'], middle_years_df['delivery_lag'])"
      ],
      "metadata": {
        "colab": {
          "base_uri": "https://localhost:8080/"
        },
        "id": "KWeZQshmINsC",
        "outputId": "04f13b4f-c60f-4242-f29b-a341bbc890eb"
      },
      "execution_count": null,
      "outputs": [
        {
          "output_type": "execute_result",
          "data": {
            "text/plain": [
              "MannwhitneyuResult(statistic=3899.0, pvalue=0.29877874165598317)"
            ]
          },
          "metadata": {},
          "execution_count": 37
        }
      ]
    },
    {
      "cell_type": "code",
      "source": [
        "st.mannwhitneyu(middle_years_df['delivery_lag'], late_years_df['delivery_lag'])"
      ],
      "metadata": {
        "colab": {
          "base_uri": "https://localhost:8080/"
        },
        "id": "KAYICXhSITZy",
        "outputId": "9ba861f7-5209-4489-c7ca-2afd1c27cc81"
      },
      "execution_count": null,
      "outputs": [
        {
          "output_type": "execute_result",
          "data": {
            "text/plain": [
              "MannwhitneyuResult(statistic=2572.0, pvalue=9.275965599645297e-05)"
            ]
          },
          "metadata": {},
          "execution_count": 38
        }
      ]
    },
    {
      "cell_type": "code",
      "source": [
        "st.mannwhitneyu(early_years_df['delivery_lag'], late_years_df['delivery_lag'])"
      ],
      "metadata": {
        "colab": {
          "base_uri": "https://localhost:8080/"
        },
        "id": "PhOT6QBqIV4K",
        "outputId": "32848a7f-eeee-4aa8-829d-b26b7d199f54"
      },
      "execution_count": null,
      "outputs": [
        {
          "output_type": "execute_result",
          "data": {
            "text/plain": [
              "MannwhitneyuResult(statistic=1982.5, pvalue=6.31812417854995e-08)"
            ]
          },
          "metadata": {},
          "execution_count": 39
        }
      ]
    },
    {
      "cell_type": "markdown",
      "source": [
        "Получили, что для поставок в период с 1958 по 1980 и 1981 по 2000 *задержки поставок имеют достаточно схожее распределение*, тогда как в периоде с 2001 по 2022 *распределение задержки сильно отличается от остальных*"
      ],
      "metadata": {
        "id": "2Qw5-Of4IfSv"
      }
    },
    {
      "cell_type": "markdown",
      "source": [
        "# **Примеры других статистических гипотез**"
      ],
      "metadata": {
        "id": "YProv26uxiuO"
      }
    },
    {
      "cell_type": "markdown",
      "source": [
        "Конечно, наиболее адекватным и правильным было бы **проверить распределения метрик на нормальность**. Проделаем это по всему датасету, используя *критерий Шапиро-Уилка*"
      ],
      "metadata": {
        "id": "tStxlPiNI_Yr"
      }
    },
    {
      "cell_type": "code",
      "source": [
        "st.shapiro(df.groupby('country')['delivery_total'].sum())"
      ],
      "metadata": {
        "colab": {
          "base_uri": "https://localhost:8080/"
        },
        "id": "GGOZ5tYoI9qI",
        "outputId": "088d0681-cc78-41c0-99b1-1001bb81dd67"
      },
      "execution_count": null,
      "outputs": [
        {
          "output_type": "execute_result",
          "data": {
            "text/plain": [
              "ShapiroResult(statistic=0.15802907943725586, pvalue=8.980480108596478e-24)"
            ]
          },
          "metadata": {},
          "execution_count": 42
        }
      ]
    },
    {
      "cell_type": "code",
      "source": [
        "st.shapiro(df.groupby('country')['order_total'].sum())"
      ],
      "metadata": {
        "colab": {
          "base_uri": "https://localhost:8080/"
        },
        "id": "BzHU7od5JnpW",
        "outputId": "31d4811b-dba6-4240-c816-622887f878c5"
      },
      "execution_count": null,
      "outputs": [
        {
          "output_type": "execute_result",
          "data": {
            "text/plain": [
              "ShapiroResult(statistic=0.15798640251159668, pvalue=8.970124731493642e-24)"
            ]
          },
          "metadata": {},
          "execution_count": 43
        }
      ]
    },
    {
      "cell_type": "code",
      "source": [
        "st.shapiro(df.groupby('country')['delivery_lag'].sum())"
      ],
      "metadata": {
        "colab": {
          "base_uri": "https://localhost:8080/"
        },
        "id": "-q-0qJZfJxGs",
        "outputId": "b547d345-7d9a-49f3-f5c8-0b672ed28620"
      },
      "execution_count": null,
      "outputs": [
        {
          "output_type": "execute_result",
          "data": {
            "text/plain": [
              "ShapiroResult(statistic=0.20227235555648804, pvalue=3.028663260451082e-23)"
            ]
          },
          "metadata": {},
          "execution_count": 44
        }
      ]
    },
    {
      "cell_type": "markdown",
      "source": [
        "Как несложно понять, все эти метрики имеют **распределения крайне далекие от нормального**; это ставит под *глубокое сомнение релевантность применения всех использованных ранее тестов Стьюдента и Фишера*."
      ],
      "metadata": {
        "id": "WeBso6MvJ2lt"
      }
    },
    {
      "cell_type": "markdown",
      "source": [
        "Еще было бы неплохо проверить попарное совпадение дисперсий различных сегментов для тех метрик, где мы применяли тест ANOVA (delivery_lag и unfilled_orders). Для этого воспользуемся F-критерием из статистики (по правде говоря, для него тоже желательно иметь распределения, не сильно отличающиеся от нормального)"
      ],
      "metadata": {
        "id": "Ux5UJEnkKVmS"
      }
    },
    {
      "cell_type": "code",
      "source": [
        "def f_test(x, y):\n",
        " \"\"\"\n",
        "    Проверяет гипотезу о равенстве дисперсий двух распределений против двухсторонней альтернативы\n",
        " \"\"\"\n",
        " f = x.std(ddof=1) / y.std(ddof=1) # вычисляем наблюдаемую статистику\n",
        " dfn = x.size-1 # находим первое число степеней свободы\n",
        " dfd = y.size-1 # находим второе число степеней свободы\n",
        " p = st.f.cdf(f, dfn, dfd) # находим p-уровень для наблюдаемой статистики\n",
        " return p"
      ],
      "metadata": {
        "id": "N572zhDxK_Z-"
      },
      "execution_count": null,
      "outputs": []
    },
    {
      "cell_type": "markdown",
      "source": [
        "Проверим равенство дисперсии для сегментов по метрике **delivery_total**"
      ],
      "metadata": {
        "id": "Tkus22lZN0Tu"
      }
    },
    {
      "cell_type": "code",
      "source": [
        "f_test(early_years_df['delivery_total'], middle_years_df['delivery_total'])"
      ],
      "metadata": {
        "colab": {
          "base_uri": "https://localhost:8080/"
        },
        "id": "kr52hLodL32o",
        "outputId": "47239a5f-9260-46e7-a4b7-9955113403f5"
      },
      "execution_count": null,
      "outputs": [
        {
          "output_type": "execute_result",
          "data": {
            "text/plain": [
              "0.21609899295835822"
            ]
          },
          "metadata": {},
          "execution_count": 46
        }
      ]
    },
    {
      "cell_type": "code",
      "source": [
        "f_test(middle_years_df['delivery_total'], late_years_df['delivery_total'])"
      ],
      "metadata": {
        "colab": {
          "base_uri": "https://localhost:8080/"
        },
        "id": "7rxDUWRuMfOZ",
        "outputId": "1f5c7ac8-3822-4747-d141-8f0a06ddda02"
      },
      "execution_count": null,
      "outputs": [
        {
          "output_type": "execute_result",
          "data": {
            "text/plain": [
              "0.21675228160327992"
            ]
          },
          "metadata": {},
          "execution_count": 47
        }
      ]
    },
    {
      "cell_type": "code",
      "source": [
        "f_test(early_years_df['delivery_total'], late_years_df['delivery_total'])"
      ],
      "metadata": {
        "colab": {
          "base_uri": "https://localhost:8080/"
        },
        "id": "72PntM6-MrKg",
        "outputId": "06d169d1-e789-4791-afea-2ae2d6ab257d"
      },
      "execution_count": null,
      "outputs": [
        {
          "output_type": "execute_result",
          "data": {
            "text/plain": [
              "0.06201968172199329"
            ]
          },
          "metadata": {},
          "execution_count": 48
        }
      ]
    },
    {
      "cell_type": "markdown",
      "source": [
        "Как можно увидеть, во всех случаях можно утверждать, что *статистически значимых различий в дисперсиях нет*, а значит *применение ANOVA к данной метрике возможно* (если не учитывать отсутствие нормальности распределения)"
      ],
      "metadata": {
        "id": "eCFZVlPcOJkj"
      }
    },
    {
      "cell_type": "markdown",
      "source": [
        "Теперь проверим то же самое для метрики delivery_lag"
      ],
      "metadata": {
        "id": "5thCRK1fOuAg"
      }
    },
    {
      "cell_type": "code",
      "source": [
        "f_test(early_years_df['delivery_lag'], middle_years_df['delivery_lag'])"
      ],
      "metadata": {
        "colab": {
          "base_uri": "https://localhost:8080/"
        },
        "id": "i3wSrtHjMwGV",
        "outputId": "063f9203-4f5b-4f2c-9e79-721bff15ee95"
      },
      "execution_count": null,
      "outputs": [
        {
          "output_type": "execute_result",
          "data": {
            "text/plain": [
              "0.003176764669812119"
            ]
          },
          "metadata": {},
          "execution_count": 95
        }
      ]
    },
    {
      "cell_type": "code",
      "source": [
        "f_test(middle_years_df['delivery_lag'], late_years_df['delivery_lag'])"
      ],
      "metadata": {
        "colab": {
          "base_uri": "https://localhost:8080/"
        },
        "id": "BRP5g-MLM4Qt",
        "outputId": "19bad8b2-f630-4bea-d368-c248d5ea561a"
      },
      "execution_count": null,
      "outputs": [
        {
          "output_type": "execute_result",
          "data": {
            "text/plain": [
              "0.00022718160366851128"
            ]
          },
          "metadata": {},
          "execution_count": 96
        }
      ]
    },
    {
      "cell_type": "code",
      "source": [
        "f_test(early_years_df['delivery_lag'], late_years_df['delivery_lag'])"
      ],
      "metadata": {
        "colab": {
          "base_uri": "https://localhost:8080/"
        },
        "id": "cx1OQPjtNADH",
        "outputId": "0bbdedd2-1d2c-4a74-d144-56dd7b7dc2d8"
      },
      "execution_count": null,
      "outputs": [
        {
          "output_type": "execute_result",
          "data": {
            "text/plain": [
              "9.434077812035592e-10"
            ]
          },
          "metadata": {},
          "execution_count": 97
        }
      ]
    },
    {
      "cell_type": "markdown",
      "source": [
        "В этот же раз во всех случаях мы *получили статистически значимые различия в дисперсиях*, следовательно здесь *применение ANOVA невозможно* (что отразилось в парадоксальном выводе в соответствующем разделе выше)"
      ],
      "metadata": {
        "id": "_g96YXseO0Cb"
      }
    }
  ]
}